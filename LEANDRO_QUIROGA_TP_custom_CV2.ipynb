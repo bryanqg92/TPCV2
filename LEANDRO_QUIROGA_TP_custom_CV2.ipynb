{
  "nbformat": 4,
  "nbformat_minor": 0,
  "metadata": {
    "colab": {
      "provenance": [],
      "gpuType": "T4"
    },
    "kernelspec": {
      "name": "python3",
      "display_name": "Python 3"
    },
    "language_info": {
      "name": "python"
    },
    "accelerator": "GPU"
  },
  "cells": [
    {
      "cell_type": "code",
      "source": [
        "from google.colab import drive\n",
        "drive.mount('/content/drive')"
      ],
      "metadata": {
        "colab": {
          "base_uri": "https://localhost:8080/"
        },
        "id": "hRRpaOT2JpbD",
        "outputId": "46587908-d434-4fcd-8a7f-7c918688457b"
      },
      "execution_count": null,
      "outputs": [
        {
          "output_type": "stream",
          "name": "stdout",
          "text": [
            "Mounted at /content/drive\n"
          ]
        }
      ]
    },
    {
      "cell_type": "code",
      "source": [
        "!pip install split-folders"
      ],
      "metadata": {
        "colab": {
          "base_uri": "https://localhost:8080/"
        },
        "id": "88WfEQolPaNk",
        "outputId": "f2ea2c4f-a1cd-4025-8941-e7b89aa63896"
      },
      "execution_count": null,
      "outputs": [
        {
          "output_type": "stream",
          "name": "stdout",
          "text": [
            "Looking in indexes: https://pypi.org/simple, https://us-python.pkg.dev/colab-wheels/public/simple/\n",
            "Collecting split-folders\n",
            "  Downloading split_folders-0.5.1-py3-none-any.whl (8.4 kB)\n",
            "Installing collected packages: split-folders\n",
            "Successfully installed split-folders-0.5.1\n"
          ]
        }
      ]
    },
    {
      "cell_type": "code",
      "execution_count": null,
      "metadata": {
        "id": "9-_lYH82NHzQ"
      },
      "outputs": [],
      "source": [
        "import matplotlib.pyplot as plt\n",
        "import seaborn as sns\n",
        "import numpy as np\n",
        "import PIL\n",
        "import torch\n",
        "import pathlib\n",
        "from torchvision.transforms import ToTensor\n",
        "from torch import nn\n",
        "from torch.nn import Sequential\n",
        "from torch.optim import SGD\n",
        "from torchvision.models import resnet50\n",
        "from torchvision.datasets import ImageFolder\n",
        "from torch.utils.data import Dataset, DataLoader\n",
        "from torchsummary import summary\n",
        "from sklearn.metrics import accuracy_score, precision_score, recall_score, f1_score, cohen_kappa_score, roc_auc_score, confusion_matrix\n",
        "import splitfolders \n",
        "import pandas as pd\n",
        "import glob\n",
        "from sklearn.metrics import confusion_matrix\n",
        "import itertools\n",
        "import plotly.express as px\n",
        "from torchvision import models\n"
      ]
    },
    {
      "cell_type": "code",
      "source": [
        "output_dir = \"/content/drive/MyDrive/dataset\""
      ],
      "metadata": {
        "id": "-xPUOF6Ex4zZ"
      },
      "execution_count": null,
      "outputs": []
    },
    {
      "cell_type": "code",
      "source": [
        "import os\n",
        "import random\n",
        "import shutil\n",
        "\n",
        "train_ratio = 0.7\n",
        "valid_ratio = 0.1\n",
        "test_ratio = 0.2\n",
        "\n",
        "# Crear directorios de salida\n",
        "train_dir = os.path.join(output_dir, \"train\")\n",
        "valid_dir = os.path.join(output_dir, \"valid\")\n",
        "test_dir = os.path.join(output_dir, \"test\")\n",
        "os.makedirs(train_dir, exist_ok=True)\n",
        "os.makedirs(valid_dir, exist_ok=True)\n",
        "os.makedirs(test_dir, exist_ok=True)\n"
      ],
      "metadata": {
        "id": "-d73CCrv6fG8"
      },
      "execution_count": null,
      "outputs": []
    },
    {
      "cell_type": "code",
      "source": [
        "## Train\n",
        "train_Images = glob.glob(train_dir + '/*/*.jpeg')\n",
        "print(\"Train number of images\", len(train_Images))\n",
        "train_Images = pd.Series(train_Images)\n",
        "traindf = pd.DataFrame()\n",
        "traindf['FileName'] = train_Images.map(lambda ImageName :ImageName.split(\"H\")[-1])\n",
        "traindf['ClassId'] = train_Images.map(lambda ImageName :ImageName.split(\"/\")[-2])\n",
        "print(traindf['ClassId'].value_counts())\n",
        "\n",
        "## Val \n",
        "val_Images = glob.glob(valid_dir +'/*/*.jpeg')\n",
        "print(\"\\nValid number of images\", len(val_Images))\n",
        "val_Images = pd.Series(val_Images)\n",
        "valdf = pd.DataFrame()\n",
        "valdf['FileName'] = val_Images.map(lambda ImageName :ImageName.split(\"H\")[-1])\n",
        "valdf['ClassId'] = val_Images.map(lambda ImageName :ImageName.split(\"/\")[-2])\n",
        "print(valdf['ClassId'].value_counts())\n",
        "#\n",
        "##test\n",
        "test_Images = glob.glob(test_dir + '/*/*.jpeg')\n",
        "print(\"\\nTest number of images\", len(test_Images))\n",
        "test_Images = pd.Series(test_Images)\n",
        "testdf = pd.DataFrame()\n",
        "testdf['FileName'] = test_Images.map(lambda ImageName :ImageName.split(\"H\")[-1])\n",
        "testdf['ClassId'] = test_Images.map(lambda ImageName :ImageName.split(\"/\")[-2])\n",
        "print(testdf['ClassId'].value_counts())"
      ],
      "metadata": {
        "colab": {
          "base_uri": "https://localhost:8080/"
        },
        "id": "2KAWUAfKgnDu",
        "outputId": "651b89bc-23dd-4e0b-ed5f-7bd2c161e260"
      },
      "execution_count": null,
      "outputs": [
        {
          "output_type": "stream",
          "name": "stdout",
          "text": [
            "Train number of images 16957\n",
            "perro       3404\n",
            "araña      3152\n",
            "gallina     2168\n",
            "caballo     1844\n",
            "vaca        1306\n",
            "ardilla     1303\n",
            "mariposa    1162\n",
            "oveja       1008\n",
            "gato         861\n",
            "elefante     749\n",
            "Name: ClassId, dtype: int64\n",
            "\n",
            "Valid number of images 2417\n",
            "perro       486\n",
            "araña      451\n",
            "gallina     309\n",
            "caballo     262\n",
            "ardilla     186\n",
            "vaca        186\n",
            "mariposa    153\n",
            "oveja       149\n",
            "gato        123\n",
            "elefante    112\n",
            "Name: ClassId, dtype: int64\n",
            "\n",
            "Test number of images 4855\n",
            "perro       981\n",
            "araña      894\n",
            "gallina     621\n",
            "caballo     525\n",
            "vaca        374\n",
            "ardilla     373\n",
            "mariposa    339\n",
            "oveja       287\n",
            "gato        243\n",
            "elefante    218\n",
            "Name: ClassId, dtype: int64\n"
          ]
        }
      ]
    },
    {
      "cell_type": "code",
      "source": [
        "import torch\n",
        "from torchvision import transforms, datasets\n",
        "\n",
        "# Definir transformaciones de datos\n",
        "train_transform = transforms.Compose([\n",
        "    transforms.RandomResizedCrop(224),\n",
        "    transforms.RandomHorizontalFlip(),\n",
        "    transforms.ToTensor(),\n",
        "    transforms.Normalize(mean=[0.485, 0.456, 0.406], std=[0.229, 0.224, 0.225])\n",
        "])\n",
        "\n",
        "test_transform = transforms.Compose([\n",
        "    transforms.Resize(256),\n",
        "    transforms.CenterCrop(224),\n",
        "    transforms.ToTensor(),\n",
        "    transforms.Normalize(mean=[0.485, 0.456, 0.406], std=[0.229, 0.224, 0.225])\n",
        "])\n",
        "\n",
        "# Crear datasets\n",
        "train_dataset = datasets.ImageFolder(train_dir, transform=train_transform)\n",
        "test_dataset = datasets.ImageFolder(test_dir, transform=test_transform)\n",
        "valid_dataset = datasets.ImageFolder(valid_dir, transform=test_transform)\n",
        "\n",
        "# Crear dataloaders\n",
        "train_loader = torch.utils.data.DataLoader(train_dataset, batch_size=32, shuffle=True)\n",
        "test_loader = torch.utils.data.DataLoader(test_dataset, batch_size=32, shuffle=False)\n",
        "valid_loader = torch.utils.data.DataLoader(valid_dataset, batch_size=32, shuffle=False)\n"
      ],
      "metadata": {
        "id": "V__Nl_nGunIp"
      },
      "execution_count": null,
      "outputs": []
    },
    {
      "cell_type": "code",
      "source": [
        "\n",
        "import torch.optim as optim\n",
        "from torchsummary import summary\n",
        "\n",
        "class CustomModel(nn.Module):\n",
        "    def __init__(self):\n",
        "        super(CustomModel, self).__init__()\n",
        "        self.conv1 = nn.Conv2d(3, 32, kernel_size=3, padding=1)\n",
        "        self.batchnorm1 = nn.BatchNorm2d(32)\n",
        "        self.conv2 = nn.Conv2d(32, 32, kernel_size=3, padding=1)\n",
        "        self.batchnorm2 = nn.BatchNorm2d(32)\n",
        "        self.conv3 = nn.Conv2d(32, 32, kernel_size=5, stride=2, padding=2)\n",
        "        self.batchnorm3 = nn.BatchNorm2d(32)\n",
        "        self.dropout1 = nn.Dropout(0.4)\n",
        "        self.conv4 = nn.Conv2d(32, 64, kernel_size=5, stride=2, padding=2)\n",
        "        self.batchnorm4 = nn.BatchNorm2d(64)\n",
        "        self.dropout2 = nn.Dropout(0.4)\n",
        "        self.conv5 = nn.Conv2d(64, 256, kernel_size=4)\n",
        "        self.batchnorm5 = nn.BatchNorm2d(256)\n",
        "        self.avgpool = nn.AdaptiveAvgPool2d((1, 1))\n",
        "        self.flatten = nn.Flatten()\n",
        "        self.dropout3 = nn.Dropout(0.4)\n",
        "        self.fc = nn.Linear(256, 10)  # Cambiar de 64 a 10 unidades\n",
        "        self.softmax = nn.Softmax(dim=1)\n",
        "\n",
        "    def forward(self, x):\n",
        "        x = nn.functional.relu(self.conv1(x))\n",
        "        x = self.batchnorm1(x)\n",
        "        x = nn.functional.relu(self.conv2(x))\n",
        "        x = self.batchnorm2(x)\n",
        "        x = nn.functional.relu(self.conv3(x))\n",
        "        x = self.batchnorm3(x)\n",
        "        x = self.dropout1(x)\n",
        "        x = nn.functional.relu(self.conv4(x))\n",
        "        x = self.batchnorm4(x)\n",
        "        x = self.dropout2(x)\n",
        "        x = nn.functional.relu(self.conv5(x))\n",
        "        x = self.batchnorm5(x)\n",
        "        x = self.avgpool(x)\n",
        "        x = self.flatten(x)\n",
        "        x = self.dropout3(x)\n",
        "        x = self.fc(x)\n",
        "        x = self.softmax(x)\n",
        "        return x\n",
        "\n",
        "# Definir el modelo\n",
        "device = torch.device(\"cuda\" if torch.cuda.is_available() else \"cpu\")\n",
        "model = CustomModel()\n",
        "model = model.to(device)\n",
        "\n",
        "# Definir la función de pérdida y el optimizador\n",
        "criterion = nn.CrossEntropyLoss()\n",
        "optimizer = optim.Adam(model.parameters(), lr=0.001)\n",
        "\n",
        "# Mostrar un resumen del modelo\n",
        "summary(model, (3, 224, 224))  # Dimensiones de entrada: (canal, altura, anchura)\n"
      ],
      "metadata": {
        "colab": {
          "base_uri": "https://localhost:8080/"
        },
        "id": "7tP54uuCzz49",
        "outputId": "1b859f2b-ba73-4c28-8ad7-6f4a9c8a099d"
      },
      "execution_count": null,
      "outputs": [
        {
          "output_type": "stream",
          "name": "stdout",
          "text": [
            "----------------------------------------------------------------\n",
            "        Layer (type)               Output Shape         Param #\n",
            "================================================================\n",
            "            Conv2d-1         [-1, 32, 224, 224]             896\n",
            "       BatchNorm2d-2         [-1, 32, 224, 224]              64\n",
            "            Conv2d-3         [-1, 32, 224, 224]           9,248\n",
            "       BatchNorm2d-4         [-1, 32, 224, 224]              64\n",
            "            Conv2d-5         [-1, 32, 112, 112]          25,632\n",
            "       BatchNorm2d-6         [-1, 32, 112, 112]              64\n",
            "           Dropout-7         [-1, 32, 112, 112]               0\n",
            "            Conv2d-8           [-1, 64, 56, 56]          51,264\n",
            "       BatchNorm2d-9           [-1, 64, 56, 56]             128\n",
            "          Dropout-10           [-1, 64, 56, 56]               0\n",
            "           Conv2d-11          [-1, 256, 53, 53]         262,400\n",
            "      BatchNorm2d-12          [-1, 256, 53, 53]             512\n",
            "AdaptiveAvgPool2d-13            [-1, 256, 1, 1]               0\n",
            "          Flatten-14                  [-1, 256]               0\n",
            "          Dropout-15                  [-1, 256]               0\n",
            "           Linear-16                   [-1, 10]           2,570\n",
            "          Softmax-17                   [-1, 10]               0\n",
            "================================================================\n",
            "Total params: 352,842\n",
            "Trainable params: 352,842\n",
            "Non-trainable params: 0\n",
            "----------------------------------------------------------------\n",
            "Input size (MB): 0.57\n",
            "Forward/backward pass size (MB): 73.76\n",
            "Params size (MB): 1.35\n",
            "Estimated Total Size (MB): 75.68\n",
            "----------------------------------------------------------------\n"
          ]
        }
      ]
    },
    {
      "cell_type": "code",
      "source": [
        "\n",
        "train_losses = []\n",
        "train_accuracies = []\n",
        "val_accuracies = []"
      ],
      "metadata": {
        "id": "E0JUovduiCmV"
      },
      "execution_count": null,
      "outputs": []
    },
    {
      "cell_type": "code",
      "source": [
        "# Entrenamiento del modelo\n",
        "num_epochs = 100\n",
        "best_accuracy = 0.0\n",
        "patience = 5\n",
        "counter = 0\n",
        "best_model_path = output_dir + \"/best_custom.pt\"\n",
        "\n",
        "\n",
        "for epoch in range(num_epochs):\n",
        "    model.train()  # Modo de entrenamiento\n",
        "    running_loss = 0.0\n",
        "    correct_predictions = 0\n",
        "\n",
        "    for images, labels in train_loader:\n",
        "        images = images.to(device)\n",
        "        labels = labels.to(device)\n",
        "\n",
        "        optimizer.zero_grad()\n",
        "\n",
        "        # Propagación hacia adelante\n",
        "        outputs = model(images)\n",
        "        loss = criterion(outputs, labels)\n",
        "\n",
        "        # Retropropagación y optimización\n",
        "        loss.backward()\n",
        "        optimizer.step()\n",
        "\n",
        "        # Calcular la pérdida y precisión promedio\n",
        "        running_loss += loss.item() * images.size(0)\n",
        "        _, predicted = torch.max(outputs.data, 1)\n",
        "        correct_predictions += (predicted == labels).sum().item()\n",
        "\n",
        "    # Calcular la pérdida y precisión promedio por epoch\n",
        "    epoch_loss = running_loss / len(train_dataset)\n",
        "    epoch_accuracy = correct_predictions / len(train_dataset)\n",
        "    \n",
        "    train_losses.append(epoch_loss)\n",
        "    train_accuracies.append(epoch_accuracy)\n",
        "\n",
        "    # Evaluación en el conjunto de validación\n",
        "    model.eval()  # Modo de evaluación\n",
        "    val_correct_predictions = 0\n",
        "\n",
        "    with torch.no_grad():\n",
        "        for val_images, val_labels in valid_loader:\n",
        "            val_images = val_images.to(device)\n",
        "            val_labels = val_labels.to(device)\n",
        "\n",
        "            val_outputs = model(val_images)\n",
        "            _, val_predicted = torch.max(val_outputs.data, 1)\n",
        "            val_correct_predictions += (val_predicted == val_labels).sum().item()\n",
        "\n",
        "    val_accuracy = val_correct_predictions / len(valid_dataset)\n",
        "    val_accuracies.append(val_accuracy)\n",
        "\n",
        "    print(f\"Epoch {epoch+1}/{num_epochs} - Train Loss: {epoch_loss:.4f} - Train Accuracy: {epoch_accuracy:.4f} - Validation Accuracy: {val_accuracy:.4f}\")\n",
        "\n",
        "\n",
        "    # Verificación del early stopping y guardado del mejor modelo\n",
        "    if val_accuracy > best_accuracy:\n",
        "        best_accuracy = val_accuracy\n",
        "        counter = 0\n",
        "        torch.save(model.state_dict(), best_model_path)\n",
        "        print(\"model saved\")\n",
        "    else:\n",
        "        counter += 1\n",
        "        \n",
        "    if counter >= patience:\n",
        "        print(\"Early stopping triggered\")\n",
        "        break\n",
        "\n"
      ],
      "metadata": {
        "colab": {
          "base_uri": "https://localhost:8080/"
        },
        "id": "k6wNOF4cvfKy",
        "outputId": "f9f58b21-16f0-4c56-ae4b-c167b3f357f4"
      },
      "execution_count": null,
      "outputs": [
        {
          "output_type": "stream",
          "name": "stdout",
          "text": [
            "Epoch 1/100 - Train Loss: 2.0601 - Train Accuracy: 0.3994 - Validation Accuracy: 0.4147\n",
            "model saved\n",
            "Epoch 2/100 - Train Loss: 2.0508 - Train Accuracy: 0.4075 - Validation Accuracy: 0.4484\n",
            "model saved\n",
            "Epoch 3/100 - Train Loss: 2.0384 - Train Accuracy: 0.4194 - Validation Accuracy: 0.4732\n",
            "model saved\n",
            "Epoch 4/100 - Train Loss: 2.0220 - Train Accuracy: 0.4368 - Validation Accuracy: 0.4820\n",
            "model saved\n",
            "Epoch 5/100 - Train Loss: 2.0171 - Train Accuracy: 0.4425 - Validation Accuracy: 0.5145\n",
            "model saved\n",
            "Epoch 6/100 - Train Loss: 2.0022 - Train Accuracy: 0.4557 - Validation Accuracy: 0.4847\n",
            "Epoch 7/100 - Train Loss: 1.9950 - Train Accuracy: 0.4660 - Validation Accuracy: 0.4832\n",
            "Epoch 8/100 - Train Loss: 1.9884 - Train Accuracy: 0.4710 - Validation Accuracy: 0.5482\n",
            "model saved\n",
            "Epoch 9/100 - Train Loss: 1.9777 - Train Accuracy: 0.4828 - Validation Accuracy: 0.5360\n"
          ]
        }
      ]
    },
    {
      "cell_type": "code",
      "source": [
        "# Graficar las curvas de pérdida y precisión\n",
        "epochs = range(1, num_epochs+1)\n",
        "\n",
        "plt.figure(figsize=(10, 4))\n",
        "plt.subplot(1, 2, 1)\n",
        "plt.plot(epochs, train_losses, label='Training Loss')\n",
        "plt.xlabel('Epochs')\n",
        "plt.ylabel('Loss')\n",
        "plt.title('Training Loss')\n",
        "plt.legend()\n",
        "\n",
        "plt.subplot(1, 2, 2)\n",
        "plt.plot(epochs, train_accuracies, label='Training Accuracy')\n",
        "plt.plot(epochs, val_accuracies, label='Validation Accuracy')\n",
        "plt.xlabel('Epochs')\n",
        "plt.ylabel('Accuracy')\n",
        "plt.title('Training and Validation Accuracy')\n",
        "plt.legend()\n",
        "\n",
        "plt.tight_layout()\n",
        "plt.show()"
      ],
      "metadata": {
        "colab": {
          "base_uri": "https://localhost:8080/",
          "height": 281
        },
        "id": "4ljQi4q3GmBo",
        "outputId": "aba5ac5a-f90b-4c99-aac5-01f7332ad004"
      },
      "execution_count": null,
      "outputs": [
        {
          "output_type": "display_data",
          "data": {
            "text/plain": [
              "<Figure size 1000x400 with 2 Axes>"
            ],
            "image/png": "[encoded data removed]"
          },
          "metadata": {}
        }
      ]
    },
    {
      "cell_type": "code",
      "source": [
        "model.eval()  # Modo de evaluación\n",
        "test_correct_predictions = 0\n",
        "imglabels  = []\n",
        "imgpredict = []\n",
        "i=0\n",
        "with torch.no_grad():\n",
        "  for test_images, test_labels in test_loader:\n",
        "    i+=1\n",
        "    test_images = test_images.to(device)\n",
        "    test_labels = test_labels.to(device)\n",
        "\n",
        "    test_outputs = model(test_images)\n",
        "    _, test_predicted = torch.max(test_outputs.data, 1)\n",
        "    imglabels.append(test_labels)\n",
        "    imgpredict.append(test_predicted)\n",
        "    test_correct_predictions += (test_predicted == test_labels).sum().item()\n",
        "\n",
        "    test_accuracy = test_correct_predictions / len(test_dataset)\n",
        "\n",
        "print(f\"Test Accuracy: {test_accuracy:.4f}\")"
      ],
      "metadata": {
        "colab": {
          "base_uri": "https://localhost:8080/"
        },
        "id": "D3aI9U7SHFO_",
        "outputId": "e1af5c34-9439-4182-a013-981ee49630ad"
      },
      "execution_count": null,
      "outputs": [
        {
          "output_type": "stream",
          "name": "stdout",
          "text": [
            "Test Accuracy: 0.9819\n"
          ]
        }
      ]
    },
    {
      "cell_type": "code",
      "source": [
        "flat_labels = []\n",
        "for tensor in imglabels:\n",
        "    for item in tensor.flatten():\n",
        "        flat_labels.append(item.item())\n",
        "\n",
        "flat_preds = []\n",
        "for tensor in imgpredict:\n",
        "    for item in tensor.flatten():\n",
        "        flat_preds.append(item.item())"
      ],
      "metadata": {
        "id": "-yA4GdnF2wAv"
      },
      "execution_count": null,
      "outputs": []
    },
    {
      "cell_type": "code",
      "source": [
        "from sklearn.metrics import confusion_matrix\n",
        "import numpy as np\n",
        "\n",
        "# Convertir las listas planas en arrays de NumPy\n",
        "labels_array = np.array(flat_labels)\n",
        "preds_array = np.array(flat_preds)\n",
        "\n",
        "# Calcular la matriz de confusión\n",
        "conf_matrix = confusion_matrix(labels_array, preds_array)\n",
        "\n",
        "# Obtener las etiquetas únicas\n",
        "unique_labels = np.unique(labels_array)\n",
        "\n",
        "# Crear la figura de la matriz de confusión\n",
        "plt.figure(figsize=(10, 8))\n",
        "plt.imshow(conf_matrix, interpolation='nearest', cmap=plt.cm.Blues)\n",
        "plt.title('Matriz de Confusión')\n",
        "plt.colorbar()\n",
        "tick_marks = np.arange(len(unique_labels))\n",
        "plt.xticks(tick_marks, unique_labels, rotation=45)\n",
        "plt.yticks(tick_marks, unique_labels)\n",
        "\n",
        "# Rellenar la matriz de confusión con los valores\n",
        "thresh = conf_matrix.max() / 2.0\n",
        "for i, j in itertools.product(range(conf_matrix.shape[0]), range(conf_matrix.shape[1])):\n",
        "    plt.text(j, i, format(conf_matrix[i, j], 'd'),\n",
        "             horizontalalignment=\"center\",\n",
        "             color=\"white\" if conf_matrix[i, j] > thresh else \"black\")\n",
        "\n",
        "plt.tight_layout()\n",
        "plt.ylabel('Etiqueta Real')\n",
        "plt.xlabel('Etiqueta Predicha')\n",
        "plt.show()\n"
      ],
      "metadata": {
        "colab": {
          "base_uri": "https://localhost:8080/",
          "height": 826
        },
        "id": "B9szvMrkLLM5",
        "outputId": "fb5b53e5-ab3f-4d5e-c575-25c5bd4d1d5a"
      },
      "execution_count": null,
      "outputs": [
        {
          "output_type": "display_data",
          "data": {
            "text/plain": [
              "<Figure size 1000x800 with 2 Axes>"
            ],
            "image/png": "[encoded data removed]"
          },
          "metadata": {}
        }
      ]
    },
    {
      "cell_type": "code",
      "source": [
        "# Cargar el mejor modelo guardado\n",
        "\n",
        "best_model_path = \"/content/drive/MyDrive/UBA/CV2/TP/best_ResNet50.pt\"\n",
        "model = models.resnet50(pretrained=False)\n",
        "num_features = model.fc.in_features\n",
        "model.fc = nn.Linear(num_features, 10)\n",
        "model.load_state_dict(torch.load(best_model_path))\n",
        "device = torch.device(\"cuda\" if torch.cuda.is_available() else \"cpu\")\n",
        "model = model.to(device)"
      ],
      "metadata": {
        "id": "zM_k9Ffk07ci",
        "colab": {
          "base_uri": "https://localhost:8080/"
        },
        "outputId": "bb63fb72-6481-4461-be05-b0604844a8f1"
      },
      "execution_count": null,
      "outputs": [
        {
          "output_type": "stream",
          "name": "stderr",
          "text": [
            "/usr/local/lib/python3.10/dist-packages/torchvision/models/_utils.py:208: UserWarning: The parameter 'pretrained' is deprecated since 0.13 and may be removed in the future, please use 'weights' instead.\n",
            "  warnings.warn(\n",
            "/usr/local/lib/python3.10/dist-packages/torchvision/models/_utils.py:223: UserWarning: Arguments other than a weight enum or `None` for 'weights' are deprecated since 0.13 and may be removed in the future. The current behavior is equivalent to passing `weights=None`.\n",
            "  warnings.warn(msg)\n"
          ]
        }
      ]
    },
    {
      "cell_type": "code",
      "source": [
        "summary(model, (3, 244, 244))"
      ],
      "metadata": {
        "id": "FzCatzcAA4ES",
        "outputId": "7ba771e8-e0c3-42e0-ff9d-5e7da5172348",
        "colab": {
          "base_uri": "https://localhost:8080/"
        }
      },
      "execution_count": null,
      "outputs": [
        {
          "output_type": "stream",
          "name": "stdout",
          "text": [
            "----------------------------------------------------------------\n",
            "        Layer (type)               Output Shape         Param #\n",
            "================================================================\n",
            "            Conv2d-1         [-1, 64, 122, 122]           9,408\n",
            "       BatchNorm2d-2         [-1, 64, 122, 122]             128\n",
            "              ReLU-3         [-1, 64, 122, 122]               0\n",
            "         MaxPool2d-4           [-1, 64, 61, 61]               0\n",
            "            Conv2d-5           [-1, 64, 61, 61]           4,096\n",
            "       BatchNorm2d-6           [-1, 64, 61, 61]             128\n",
            "              ReLU-7           [-1, 64, 61, 61]               0\n",
            "            Conv2d-8           [-1, 64, 61, 61]          36,864\n",
            "       BatchNorm2d-9           [-1, 64, 61, 61]             128\n",
            "             ReLU-10           [-1, 64, 61, 61]               0\n",
            "           Conv2d-11          [-1, 256, 61, 61]          16,384\n",
            "      BatchNorm2d-12          [-1, 256, 61, 61]             512\n",
            "           Conv2d-13          [-1, 256, 61, 61]          16,384\n",
            "      BatchNorm2d-14          [-1, 256, 61, 61]             512\n",
            "             ReLU-15          [-1, 256, 61, 61]               0\n",
            "       Bottleneck-16          [-1, 256, 61, 61]               0\n",
            "           Conv2d-17           [-1, 64, 61, 61]          16,384\n",
            "      BatchNorm2d-18           [-1, 64, 61, 61]             128\n",
            "             ReLU-19           [-1, 64, 61, 61]               0\n",
            "           Conv2d-20           [-1, 64, 61, 61]          36,864\n",
            "      BatchNorm2d-21           [-1, 64, 61, 61]             128\n",
            "             ReLU-22           [-1, 64, 61, 61]               0\n",
            "           Conv2d-23          [-1, 256, 61, 61]          16,384\n",
            "      BatchNorm2d-24          [-1, 256, 61, 61]             512\n",
            "             ReLU-25          [-1, 256, 61, 61]               0\n",
            "       Bottleneck-26          [-1, 256, 61, 61]               0\n",
            "           Conv2d-27           [-1, 64, 61, 61]          16,384\n",
            "      BatchNorm2d-28           [-1, 64, 61, 61]             128\n",
            "             ReLU-29           [-1, 64, 61, 61]               0\n",
            "           Conv2d-30           [-1, 64, 61, 61]          36,864\n",
            "      BatchNorm2d-31           [-1, 64, 61, 61]             128\n",
            "             ReLU-32           [-1, 64, 61, 61]               0\n",
            "           Conv2d-33          [-1, 256, 61, 61]          16,384\n",
            "      BatchNorm2d-34          [-1, 256, 61, 61]             512\n",
            "             ReLU-35          [-1, 256, 61, 61]               0\n",
            "       Bottleneck-36          [-1, 256, 61, 61]               0\n",
            "           Conv2d-37          [-1, 128, 61, 61]          32,768\n",
            "      BatchNorm2d-38          [-1, 128, 61, 61]             256\n",
            "             ReLU-39          [-1, 128, 61, 61]               0\n",
            "           Conv2d-40          [-1, 128, 31, 31]         147,456\n",
            "      BatchNorm2d-41          [-1, 128, 31, 31]             256\n",
            "             ReLU-42          [-1, 128, 31, 31]               0\n",
            "           Conv2d-43          [-1, 512, 31, 31]          65,536\n",
            "      BatchNorm2d-44          [-1, 512, 31, 31]           1,024\n",
            "           Conv2d-45          [-1, 512, 31, 31]         131,072\n",
            "      BatchNorm2d-46          [-1, 512, 31, 31]           1,024\n",
            "             ReLU-47          [-1, 512, 31, 31]               0\n",
            "       Bottleneck-48          [-1, 512, 31, 31]               0\n",
            "           Conv2d-49          [-1, 128, 31, 31]          65,536\n",
            "      BatchNorm2d-50          [-1, 128, 31, 31]             256\n",
            "             ReLU-51          [-1, 128, 31, 31]               0\n",
            "           Conv2d-52          [-1, 128, 31, 31]         147,456\n",
            "      BatchNorm2d-53          [-1, 128, 31, 31]             256\n",
            "             ReLU-54          [-1, 128, 31, 31]               0\n",
            "           Conv2d-55          [-1, 512, 31, 31]          65,536\n",
            "      BatchNorm2d-56          [-1, 512, 31, 31]           1,024\n",
            "             ReLU-57          [-1, 512, 31, 31]               0\n",
            "       Bottleneck-58          [-1, 512, 31, 31]               0\n",
            "           Conv2d-59          [-1, 128, 31, 31]          65,536\n",
            "      BatchNorm2d-60          [-1, 128, 31, 31]             256\n",
            "             ReLU-61          [-1, 128, 31, 31]               0\n",
            "           Conv2d-62          [-1, 128, 31, 31]         147,456\n",
            "      BatchNorm2d-63          [-1, 128, 31, 31]             256\n",
            "             ReLU-64          [-1, 128, 31, 31]               0\n",
            "           Conv2d-65          [-1, 512, 31, 31]          65,536\n",
            "      BatchNorm2d-66          [-1, 512, 31, 31]           1,024\n",
            "             ReLU-67          [-1, 512, 31, 31]               0\n",
            "       Bottleneck-68          [-1, 512, 31, 31]               0\n",
            "           Conv2d-69          [-1, 128, 31, 31]          65,536\n",
            "      BatchNorm2d-70          [-1, 128, 31, 31]             256\n",
            "             ReLU-71          [-1, 128, 31, 31]               0\n",
            "           Conv2d-72          [-1, 128, 31, 31]         147,456\n",
            "      BatchNorm2d-73          [-1, 128, 31, 31]             256\n",
            "             ReLU-74          [-1, 128, 31, 31]               0\n",
            "           Conv2d-75          [-1, 512, 31, 31]          65,536\n",
            "      BatchNorm2d-76          [-1, 512, 31, 31]           1,024\n",
            "             ReLU-77          [-1, 512, 31, 31]               0\n",
            "       Bottleneck-78          [-1, 512, 31, 31]               0\n",
            "           Conv2d-79          [-1, 256, 31, 31]         131,072\n",
            "      BatchNorm2d-80          [-1, 256, 31, 31]             512\n",
            "             ReLU-81          [-1, 256, 31, 31]               0\n",
            "           Conv2d-82          [-1, 256, 16, 16]         589,824\n",
            "      BatchNorm2d-83          [-1, 256, 16, 16]             512\n",
            "             ReLU-84          [-1, 256, 16, 16]               0\n",
            "           Conv2d-85         [-1, 1024, 16, 16]         262,144\n",
            "      BatchNorm2d-86         [-1, 1024, 16, 16]           2,048\n",
            "           Conv2d-87         [-1, 1024, 16, 16]         524,288\n",
            "      BatchNorm2d-88         [-1, 1024, 16, 16]           2,048\n",
            "             ReLU-89         [-1, 1024, 16, 16]               0\n",
            "       Bottleneck-90         [-1, 1024, 16, 16]               0\n",
            "           Conv2d-91          [-1, 256, 16, 16]         262,144\n",
            "      BatchNorm2d-92          [-1, 256, 16, 16]             512\n",
            "             ReLU-93          [-1, 256, 16, 16]               0\n",
            "           Conv2d-94          [-1, 256, 16, 16]         589,824\n",
            "      BatchNorm2d-95          [-1, 256, 16, 16]             512\n",
            "             ReLU-96          [-1, 256, 16, 16]               0\n",
            "           Conv2d-97         [-1, 1024, 16, 16]         262,144\n",
            "      BatchNorm2d-98         [-1, 1024, 16, 16]           2,048\n",
            "             ReLU-99         [-1, 1024, 16, 16]               0\n",
            "      Bottleneck-100         [-1, 1024, 16, 16]               0\n",
            "          Conv2d-101          [-1, 256, 16, 16]         262,144\n",
            "     BatchNorm2d-102          [-1, 256, 16, 16]             512\n",
            "            ReLU-103          [-1, 256, 16, 16]               0\n",
            "          Conv2d-104          [-1, 256, 16, 16]         589,824\n",
            "     BatchNorm2d-105          [-1, 256, 16, 16]             512\n",
            "            ReLU-106          [-1, 256, 16, 16]               0\n",
            "          Conv2d-107         [-1, 1024, 16, 16]         262,144\n",
            "     BatchNorm2d-108         [-1, 1024, 16, 16]           2,048\n",
            "            ReLU-109         [-1, 1024, 16, 16]               0\n",
            "      Bottleneck-110         [-1, 1024, 16, 16]               0\n",
            "          Conv2d-111          [-1, 256, 16, 16]         262,144\n",
            "     BatchNorm2d-112          [-1, 256, 16, 16]             512\n",
            "            ReLU-113          [-1, 256, 16, 16]               0\n",
            "          Conv2d-114          [-1, 256, 16, 16]         589,824\n",
            "     BatchNorm2d-115          [-1, 256, 16, 16]             512\n",
            "            ReLU-116          [-1, 256, 16, 16]               0\n",
            "          Conv2d-117         [-1, 1024, 16, 16]         262,144\n",
            "     BatchNorm2d-118         [-1, 1024, 16, 16]           2,048\n",
            "            ReLU-119         [-1, 1024, 16, 16]               0\n",
            "      Bottleneck-120         [-1, 1024, 16, 16]               0\n",
            "          Conv2d-121          [-1, 256, 16, 16]         262,144\n",
            "     BatchNorm2d-122          [-1, 256, 16, 16]             512\n",
            "            ReLU-123          [-1, 256, 16, 16]               0\n",
            "          Conv2d-124          [-1, 256, 16, 16]         589,824\n",
            "     BatchNorm2d-125          [-1, 256, 16, 16]             512\n",
            "            ReLU-126          [-1, 256, 16, 16]               0\n",
            "          Conv2d-127         [-1, 1024, 16, 16]         262,144\n",
            "     BatchNorm2d-128         [-1, 1024, 16, 16]           2,048\n",
            "            ReLU-129         [-1, 1024, 16, 16]               0\n",
            "      Bottleneck-130         [-1, 1024, 16, 16]               0\n",
            "          Conv2d-131          [-1, 256, 16, 16]         262,144\n",
            "     BatchNorm2d-132          [-1, 256, 16, 16]             512\n",
            "            ReLU-133          [-1, 256, 16, 16]               0\n",
            "          Conv2d-134          [-1, 256, 16, 16]         589,824\n",
            "     BatchNorm2d-135          [-1, 256, 16, 16]             512\n",
            "            ReLU-136          [-1, 256, 16, 16]               0\n",
            "          Conv2d-137         [-1, 1024, 16, 16]         262,144\n",
            "     BatchNorm2d-138         [-1, 1024, 16, 16]           2,048\n",
            "            ReLU-139         [-1, 1024, 16, 16]               0\n",
            "      Bottleneck-140         [-1, 1024, 16, 16]               0\n",
            "          Conv2d-141          [-1, 512, 16, 16]         524,288\n",
            "     BatchNorm2d-142          [-1, 512, 16, 16]           1,024\n",
            "            ReLU-143          [-1, 512, 16, 16]               0\n",
            "          Conv2d-144            [-1, 512, 8, 8]       2,359,296\n",
            "     BatchNorm2d-145            [-1, 512, 8, 8]           1,024\n",
            "            ReLU-146            [-1, 512, 8, 8]               0\n",
            "          Conv2d-147           [-1, 2048, 8, 8]       1,048,576\n",
            "     BatchNorm2d-148           [-1, 2048, 8, 8]           4,096\n",
            "          Conv2d-149           [-1, 2048, 8, 8]       2,097,152\n",
            "     BatchNorm2d-150           [-1, 2048, 8, 8]           4,096\n",
            "            ReLU-151           [-1, 2048, 8, 8]               0\n",
            "      Bottleneck-152           [-1, 2048, 8, 8]               0\n",
            "          Conv2d-153            [-1, 512, 8, 8]       1,048,576\n",
            "     BatchNorm2d-154            [-1, 512, 8, 8]           1,024\n",
            "            ReLU-155            [-1, 512, 8, 8]               0\n",
            "          Conv2d-156            [-1, 512, 8, 8]       2,359,296\n",
            "     BatchNorm2d-157            [-1, 512, 8, 8]           1,024\n",
            "            ReLU-158            [-1, 512, 8, 8]               0\n",
            "          Conv2d-159           [-1, 2048, 8, 8]       1,048,576\n",
            "     BatchNorm2d-160           [-1, 2048, 8, 8]           4,096\n",
            "            ReLU-161           [-1, 2048, 8, 8]               0\n",
            "      Bottleneck-162           [-1, 2048, 8, 8]               0\n",
            "          Conv2d-163            [-1, 512, 8, 8]       1,048,576\n",
            "     BatchNorm2d-164            [-1, 512, 8, 8]           1,024\n",
            "            ReLU-165            [-1, 512, 8, 8]               0\n",
            "          Conv2d-166            [-1, 512, 8, 8]       2,359,296\n",
            "     BatchNorm2d-167            [-1, 512, 8, 8]           1,024\n",
            "            ReLU-168            [-1, 512, 8, 8]               0\n",
            "          Conv2d-169           [-1, 2048, 8, 8]       1,048,576\n",
            "     BatchNorm2d-170           [-1, 2048, 8, 8]           4,096\n",
            "            ReLU-171           [-1, 2048, 8, 8]               0\n",
            "      Bottleneck-172           [-1, 2048, 8, 8]               0\n",
            "AdaptiveAvgPool2d-173           [-1, 2048, 1, 1]               0\n",
            "          Linear-174                   [-1, 10]          20,490\n",
            "================================================================\n",
            "Total params: 23,528,522\n",
            "Trainable params: 23,528,522\n",
            "Non-trainable params: 0\n",
            "----------------------------------------------------------------\n",
            "Input size (MB): 0.68\n",
            "Forward/backward pass size (MB): 351.15\n",
            "Params size (MB): 89.75\n",
            "Estimated Total Size (MB): 441.58\n",
            "----------------------------------------------------------------\n"
          ]
        }
      ]
    }
  ]
}